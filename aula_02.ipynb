{
  "nbformat": 4,
  "nbformat_minor": 0,
  "metadata": {
    "colab": {
      "name": "aula 02.ipynb",
      "provenance": [],
      "authorship_tag": "ABX9TyNt2tafdCBkf/q4bPs49qpC",
      "include_colab_link": true
    },
    "kernelspec": {
      "name": "python3",
      "display_name": "Python 3"
    },
    "language_info": {
      "name": "python"
    }
  },
  "cells": [
    {
      "cell_type": "markdown",
      "metadata": {
        "id": "view-in-github",
        "colab_type": "text"
      },
      "source": [
        "<a href=\"https://colab.research.google.com/github/antonio00/python-blueedtech/blob/main/aula_02.ipynb\" target=\"_parent\"><img src=\"https://colab.research.google.com/assets/colab-badge.svg\" alt=\"Open In Colab\"/></a>"
      ]
    },
    {
      "cell_type": "code",
      "metadata": {
        "colab": {
          "base_uri": "https://localhost:8080/"
        },
        "id": "DrF8gFtHvWHs",
        "outputId": "b6bdeec3-f5f8-424d-cb43-369c65d4910a"
      },
      "source": [
        "print('Olá mundo! Esse é meu primeiro programa')"
      ],
      "execution_count": 1,
      "outputs": [
        {
          "output_type": "stream",
          "text": [
            "Olá mundo! Esse é meu primeiro programa\n"
          ],
          "name": "stdout"
        }
      ]
    },
    {
      "cell_type": "code",
      "metadata": {
        "colab": {
          "base_uri": "https://localhost:8080/"
        },
        "id": "DVKTdTUEwmAO",
        "outputId": "a684ab1e-668d-479c-b6a0-5e11345b9965"
      },
      "source": [
        "nome = input('Qual é o seu nome? ')\n",
        "print(f'Olá {nome}! Seja bem vindo a programação!')"
      ],
      "execution_count": 2,
      "outputs": [
        {
          "output_type": "stream",
          "text": [
            "Qual é o seu nome? Antonio\n",
            "Olá Antonio! Seja bem vindo a programação!\n"
          ],
          "name": "stdout"
        }
      ]
    },
    {
      "cell_type": "code",
      "metadata": {
        "colab": {
          "base_uri": "https://localhost:8080/"
        },
        "id": "n304u-Xyw5ZJ",
        "outputId": "43117e56-dd35-4c8d-a866-83ab9903e246"
      },
      "source": [
        "# int() é função de conversão valores inteiro\n",
        "\n",
        "n1 = int(input('Digite o número 1: '))\n",
        "n2 = int(input('Digite o número 2: '))\n",
        "\n",
        "soma = (n1) + (n2)\n",
        "\n",
        "print(f'A soma de {n1} + {n2} = {soma}')"
      ],
      "execution_count": 6,
      "outputs": [
        {
          "output_type": "stream",
          "text": [
            "Digite o número 1: 3\n",
            "Digite o número 2: 3\n",
            "A soma de 3 + 3 = 6\n"
          ],
          "name": "stdout"
        }
      ]
    },
    {
      "cell_type": "code",
      "metadata": {
        "colab": {
          "base_uri": "https://localhost:8080/"
        },
        "id": "4I24D-hByXm_",
        "outputId": "4165b35b-ff71-4c1f-95b1-d8fb4640131b"
      },
      "source": [
        "#  calculando média\n",
        "# float () converte valores para float (decimal)\n",
        "\n",
        "n1 = float(input('Digite a 1ª nota: '))\n",
        "n2 = float(input('Digite a 2ª nota: '))\n",
        "n3 = float(input('Digite a 3ª nota: '))\n",
        "n4 = float(input('Digite a 4ª nota: '))\n",
        "\n",
        "media = (n1 + n2 + n3 + n4) / 4\n",
        "\n",
        "print(f'A sua media é: {media:.2f}')\n"
      ],
      "execution_count": 12,
      "outputs": [
        {
          "output_type": "stream",
          "text": [
            "Digite a 1ª nota: 8.5\n",
            "Digite a 2ª nota: 9.25\n",
            "Digite a 3ª nota: 8.75\n",
            "Digite a 4ª nota: 10\n",
            "A sua media é: 9.12\n"
          ],
          "name": "stdout"
        }
      ]
    },
    {
      "cell_type": "code",
      "metadata": {
        "colab": {
          "base_uri": "https://localhost:8080/"
        },
        "id": "RZ4fs7472uhV",
        "outputId": "028b8d2f-7079-4720-bbd6-d9c2869f48ad"
      },
      "source": [
        "valor1 = float(input('digite o primeiro valor'))\n",
        "valor2 = float(input('digite o segundo valor'))\n",
        "\n",
        "print(valor1 > valor2)\n",
        "\n"
      ],
      "execution_count": 14,
      "outputs": [
        {
          "output_type": "stream",
          "text": [
            "digite o primeiro valor2\n",
            "digite o segundo valor3\n",
            "False\n"
          ],
          "name": "stdout"
        }
      ]
    },
    {
      "cell_type": "code",
      "metadata": {
        "colab": {
          "base_uri": "https://localhost:8080/"
        },
        "id": "wM9psKfh3vw2",
        "outputId": "0433db61-1e3c-48ec-f7c7-10f215bc0b49"
      },
      "source": [
        "frase = 'Os limites só existem se você os deixar existir.(goku)'\n",
        "\n",
        "print(len(frase))\n",
        "\n",
        "print(frase[48:])\n",
        "\n",
        "\n"
      ],
      "execution_count": 20,
      "outputs": [
        {
          "output_type": "stream",
          "text": [
            "54\n",
            "(goku)\n"
          ],
          "name": "stdout"
        }
      ]
    },
    {
      "cell_type": "code",
      "metadata": {
        "colab": {
          "base_uri": "https://localhost:8080/"
        },
        "id": "Grw3whnm4oZW",
        "outputId": "28d9f92e-be37-4e1c-89d1-0508e7b3bcc0"
      },
      "source": [
        "# converter o que o  usuario digita em letra maiuscula .upper()\n",
        "\n",
        "frase = input('Digite uma frase: ').upper()\n",
        "\n",
        "\n",
        "print(frase.replace(' ',''))"
      ],
      "execution_count": 27,
      "outputs": [
        {
          "output_type": "stream",
          "text": [
            "Digite uma frase: agora a frase vai\n",
            "AGORAAFRASEVAI\n"
          ],
          "name": "stdout"
        }
      ]
    },
    {
      "cell_type": "code",
      "metadata": {
        "id": "rhpR8kad5N3Q"
      },
      "source": [
        ""
      ],
      "execution_count": null,
      "outputs": []
    },
    {
      "cell_type": "code",
      "metadata": {
        "id": "_9mtWKhO4679"
      },
      "source": [
        ""
      ],
      "execution_count": null,
      "outputs": []
    }
  ]
}