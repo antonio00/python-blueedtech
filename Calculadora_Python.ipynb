{
  "nbformat": 4,
  "nbformat_minor": 0,
  "metadata": {
    "colab": {
      "name": "Calculadora_Python.ipynb",
      "provenance": [],
      "authorship_tag": "ABX9TyP/aN3J9jP1cgp3nCJKXJDF",
      "include_colab_link": true
    },
    "kernelspec": {
      "name": "python3",
      "display_name": "Python 3"
    },
    "language_info": {
      "name": "python"
    }
  },
  "cells": [
    {
      "cell_type": "markdown",
      "metadata": {
        "id": "view-in-github",
        "colab_type": "text"
      },
      "source": [
        "<a href=\"https://colab.research.google.com/github/antonio00/python-blueedtech/blob/main/Calculadora_Python.ipynb\" target=\"_parent\"><img src=\"https://colab.research.google.com/assets/colab-badge.svg\" alt=\"Open In Colab\"/></a>"
      ]
    },
    {
      "cell_type": "markdown",
      "metadata": {
        "id": "x1UlWDo2elYF"
      },
      "source": [
        "CALCULADORA BÁSICA - 4 OPERAÇÃOES"
      ]
    },
    {
      "cell_type": "code",
      "metadata": {
        "colab": {
          "base_uri": "https://localhost:8080/"
        },
        "id": "mOPxnBBTefNF",
        "outputId": "94fdb6dc-b648-4a2f-c377-0db5e2a16379"
      },
      "source": [
        "operacao = input('''\n",
        "Digite a operação matemática que deseja realizar:\n",
        "+ para adição\n",
        "- para subtração\n",
        "* para multiplicação\n",
        "/ para divisão\n",
        "''')\n",
        "\n",
        "n1 = float(input('Digite 1º número: '))\n",
        "n2 = float(input('Digite 2º número: '))\n",
        "\n",
        "if operacao == '+':\n",
        "    print('{} + {} = '.format(n1, n2))\n",
        "    print(n1 + n2)\n",
        "\n",
        "elif operacao == '-':\n",
        "    print('{} - {} = '.format(n1, n2))\n",
        "    print(n1 - n2)\n",
        "\n",
        "elif operacao == '*':\n",
        "    print('{} * {} = '.format(n1, n2))\n",
        "    print(n1 * n2)\n",
        "\n",
        "elif operacao == '/':\n",
        "    print('{} / {} = '.format(n1, n2))\n",
        "    print(n1 / n2)\n",
        "\n",
        "else:\n",
        "    print('Você não digitou um operador válido, execute o programa novamente.')"
      ],
      "execution_count": 2,
      "outputs": [
        {
          "output_type": "stream",
          "text": [
            "\n",
            "Digite a operação matemática que deseja realizar:\n",
            "+ para adição\n",
            "- para subtração\n",
            "* para multiplicação\n",
            "/ para divisão\n",
            "/\n",
            "Digite 1º número: 13\n",
            "Digite 2º número: 2\n",
            "13.0 / 2.0 = \n",
            "6.5\n"
          ],
          "name": "stdout"
        }
      ]
    }
  ]
}